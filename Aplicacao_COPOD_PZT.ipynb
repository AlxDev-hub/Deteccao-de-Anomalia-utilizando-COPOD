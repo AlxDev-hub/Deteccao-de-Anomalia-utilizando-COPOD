{
 "cells": [
  {
   "cell_type": "markdown",
   "metadata": {
    "id": "feGI9Iy_c3BC"
   },
   "source": [
    "# Aplicação de detecção de anomalia utilizando COPOD"
   ]
  },
  {
   "cell_type": "code",
   "execution_count": 21,
   "metadata": {
    "id": "JcU1Yp7ZcyZ2"
   },
   "outputs": [],
   "source": [
    "#Bibliotecas utilizadas\n",
    "import numpy as np\n",
    "import pandas as pd\n",
    "import matplotlib.pyplot as plt\n",
    "import seaborn as sns\n",
    "from pyod.models.copod import COPOD\n",
    "from sklearn.decomposition import PCA\n",
    "from pyod.utils.data import evaluate_print\n",
    "from pyod.utils.example import visualize"
   ]
  },
  {
   "cell_type": "code",
   "execution_count": null,
   "metadata": {
    "colab": {
     "base_uri": "https://localhost:8080/",
     "height": 488
    },
    "id": "YzPoTLTwdPDv",
    "outputId": "0e3cd752-5cae-49d9-a934-014af06bb760",
    "scrolled": false
   },
   "outputs": [],
   "source": [
    "#Carregar dataset - X_train\n",
    "dataset = pd.read_excel(\"pzt2.xlsx\", header=None)\n",
    "\n",
    "display(dataset)"
   ]
  },
  {
   "cell_type": "code",
   "execution_count": null,
   "metadata": {
    "colab": {
     "base_uri": "https://localhost:8080/",
     "height": 739
    },
    "id": "cgv8wFoxgefu",
    "outputId": "ea0d122c-a88d-442f-c48b-589dde145b07"
   },
   "outputs": [],
   "source": [
    "#Tratamento do dataset - Transpor dados\n",
    "data = dataset.T\n",
    "\n",
    "display(data)"
   ]
  },
  {
   "cell_type": "code",
   "execution_count": null,
   "metadata": {},
   "outputs": [],
   "source": [
    "#Tratamento do dataset - Remover linha da frequencia \"0\" e as linhas correspondentes a amostra para teste\n",
    "new_data = data.drop([0, 2, 3, 4, 5, 6, 17, 77, 137, 197, 257, 317, 332, 662, 992, 1322, 1652, 1982, 2312, 2642], axis=0)\n",
    "\n",
    "display(new_data)"
   ]
  },
  {
   "cell_type": "code",
   "execution_count": 5,
   "metadata": {},
   "outputs": [
    {
     "name": "stdout",
     "output_type": "stream",
     "text": [
      "<class 'pandas.core.frame.DataFrame'>\n",
      "Int64Index: 2951 entries, 1 to 2970\n",
      "Columns: 4000 entries, 0 to 3999\n",
      "dtypes: float64(4000)\n",
      "memory usage: 90.1 MB\n"
     ]
    }
   ],
   "source": [
    "#Tratamento do dataset - Verificar tipo de dados\n",
    "new_data.info()"
   ]
  },
  {
   "cell_type": "code",
   "execution_count": 6,
   "metadata": {},
   "outputs": [
    {
     "data": {
      "text/html": [
       "<div>\n",
       "<style scoped>\n",
       "    .dataframe tbody tr th:only-of-type {\n",
       "        vertical-align: middle;\n",
       "    }\n",
       "\n",
       "    .dataframe tbody tr th {\n",
       "        vertical-align: top;\n",
       "    }\n",
       "\n",
       "    .dataframe thead th {\n",
       "        text-align: right;\n",
       "    }\n",
       "</style>\n",
       "<table border=\"1\" class=\"dataframe\">\n",
       "  <thead>\n",
       "    <tr style=\"text-align: right;\">\n",
       "      <th></th>\n",
       "      <th>0</th>\n",
       "      <th>1</th>\n",
       "    </tr>\n",
       "  </thead>\n",
       "  <tbody>\n",
       "    <tr>\n",
       "      <th>0</th>\n",
       "      <td>-3739.819298</td>\n",
       "      <td>-2500.034382</td>\n",
       "    </tr>\n",
       "    <tr>\n",
       "      <th>1</th>\n",
       "      <td>-3740.277808</td>\n",
       "      <td>-2502.859177</td>\n",
       "    </tr>\n",
       "    <tr>\n",
       "      <th>2</th>\n",
       "      <td>-3732.819369</td>\n",
       "      <td>-2500.966344</td>\n",
       "    </tr>\n",
       "    <tr>\n",
       "      <th>3</th>\n",
       "      <td>-3739.514654</td>\n",
       "      <td>-2501.099658</td>\n",
       "    </tr>\n",
       "    <tr>\n",
       "      <th>4</th>\n",
       "      <td>-3740.721615</td>\n",
       "      <td>-2502.989555</td>\n",
       "    </tr>\n",
       "    <tr>\n",
       "      <th>...</th>\n",
       "      <td>...</td>\n",
       "      <td>...</td>\n",
       "    </tr>\n",
       "    <tr>\n",
       "      <th>2946</th>\n",
       "      <td>4493.747477</td>\n",
       "      <td>-3107.316259</td>\n",
       "    </tr>\n",
       "    <tr>\n",
       "      <th>2947</th>\n",
       "      <td>4493.231924</td>\n",
       "      <td>-3106.556191</td>\n",
       "    </tr>\n",
       "    <tr>\n",
       "      <th>2948</th>\n",
       "      <td>4496.120065</td>\n",
       "      <td>-3104.047839</td>\n",
       "    </tr>\n",
       "    <tr>\n",
       "      <th>2949</th>\n",
       "      <td>4516.510843</td>\n",
       "      <td>-3090.237409</td>\n",
       "    </tr>\n",
       "    <tr>\n",
       "      <th>2950</th>\n",
       "      <td>4543.483092</td>\n",
       "      <td>-3064.029300</td>\n",
       "    </tr>\n",
       "  </tbody>\n",
       "</table>\n",
       "<p>2951 rows × 2 columns</p>\n",
       "</div>"
      ],
      "text/plain": [
       "                0            1\n",
       "0    -3739.819298 -2500.034382\n",
       "1    -3740.277808 -2502.859177\n",
       "2    -3732.819369 -2500.966344\n",
       "3    -3739.514654 -2501.099658\n",
       "4    -3740.721615 -2502.989555\n",
       "...           ...          ...\n",
       "2946  4493.747477 -3107.316259\n",
       "2947  4493.231924 -3106.556191\n",
       "2948  4496.120065 -3104.047839\n",
       "2949  4516.510843 -3090.237409\n",
       "2950  4543.483092 -3064.029300\n",
       "\n",
       "[2951 rows x 2 columns]"
      ]
     },
     "metadata": {},
     "output_type": "display_data"
    }
   ],
   "source": [
    "#Aplicando PCA - X_train\n",
    "pca = PCA(n_components=2)\n",
    "principalComponents = pca.fit_transform(new_data)\n",
    "principalDf = pd.DataFrame(data= principalComponents)\n",
    "\n",
    "display(principalDf)"
   ]
  },
  {
   "cell_type": "code",
   "execution_count": 7,
   "metadata": {
    "colab": {
     "base_uri": "https://localhost:8080/",
     "height": 613
    },
    "id": "ZIRkP467hl_F",
    "outputId": "12fef308-df3c-4b66-aff2-04f6c3929ea3"
   },
   "outputs": [],
   "source": [
    "#Definindo dados de treinamento\n",
    "X_train = principalDf\n",
    "\n",
    "y_train = []\n",
    "for i in range(2951):\n",
    "    y = 0 if i < 660 else 1\n",
    "    y_train.append(y)"
   ]
  },
  {
   "cell_type": "code",
   "execution_count": 8,
   "metadata": {
    "colab": {
     "base_uri": "https://localhost:8080/"
    },
    "id": "SrnZ89LldX-a",
    "outputId": "1662d292-ba82-4875-9613-3ca436fc3e3b"
   },
   "outputs": [
    {
     "data": {
      "text/plain": [
       "COPOD(contamination=0.1, n_jobs=1)"
      ]
     },
     "execution_count": 8,
     "metadata": {},
     "output_type": "execute_result"
    }
   ],
   "source": [
    "#Aplicar COPOD nos dados\n",
    "detector = COPOD()\n",
    "detector.fit(X_train)"
   ]
  },
  {
   "cell_type": "code",
   "execution_count": 9,
   "metadata": {
    "id": "yBg1gxeYK8MD"
   },
   "outputs": [],
   "source": [
    "#Predição e Pontuações atípicas - X_train\n",
    "y_train_pred = detector.labels_  \n",
    "y_train_scores = detector.decision_scores_  "
   ]
  },
  {
   "cell_type": "code",
   "execution_count": null,
   "metadata": {},
   "outputs": [],
   "source": [
    "#Carregar dataset - X_test\n",
    "dataset_test = pd.read_excel(\"Amostra-PZT.xlsx\")\n",
    "\n",
    "display(dataset_test)"
   ]
  },
  {
   "cell_type": "code",
   "execution_count": null,
   "metadata": {},
   "outputs": [],
   "source": [
    "#Tratamento do dataset - Transpor dados - X-test\n",
    "data_test = dataset_test.T\n",
    "\n",
    "display(data_test)"
   ]
  },
  {
   "cell_type": "code",
   "execution_count": null,
   "metadata": {},
   "outputs": [],
   "source": [
    "#Tratamento do dataset - Remover linha da frequencia \"0\" - X_test\n",
    "new_data_test = data_test.drop(\"Frequencia\", axis=0)\n",
    "\n",
    "display(new_data_test)"
   ]
  },
  {
   "cell_type": "code",
   "execution_count": 14,
   "metadata": {},
   "outputs": [
    {
     "name": "stdout",
     "output_type": "stream",
     "text": [
      "<class 'pandas.core.frame.DataFrame'>\n",
      "Index: 19 entries, 2 to 2642\n",
      "Columns: 4000 entries, 0 to 3999\n",
      "dtypes: float64(4000)\n",
      "memory usage: 593.9+ KB\n"
     ]
    }
   ],
   "source": [
    "#Tratamento do dataset - Verificar tipo de dados - X_test\n",
    "new_data_test.info()"
   ]
  },
  {
   "cell_type": "code",
   "execution_count": 15,
   "metadata": {},
   "outputs": [
    {
     "data": {
      "text/html": [
       "<div>\n",
       "<style scoped>\n",
       "    .dataframe tbody tr th:only-of-type {\n",
       "        vertical-align: middle;\n",
       "    }\n",
       "\n",
       "    .dataframe tbody tr th {\n",
       "        vertical-align: top;\n",
       "    }\n",
       "\n",
       "    .dataframe thead th {\n",
       "        text-align: right;\n",
       "    }\n",
       "</style>\n",
       "<table border=\"1\" class=\"dataframe\">\n",
       "  <thead>\n",
       "    <tr style=\"text-align: right;\">\n",
       "      <th></th>\n",
       "      <th>0</th>\n",
       "      <th>1</th>\n",
       "    </tr>\n",
       "  </thead>\n",
       "  <tbody>\n",
       "    <tr>\n",
       "      <th>0</th>\n",
       "      <td>-991.600190</td>\n",
       "      <td>-2100.569600</td>\n",
       "    </tr>\n",
       "    <tr>\n",
       "      <th>1</th>\n",
       "      <td>-995.839618</td>\n",
       "      <td>-2103.472314</td>\n",
       "    </tr>\n",
       "    <tr>\n",
       "      <th>2</th>\n",
       "      <td>-997.381667</td>\n",
       "      <td>-2112.376735</td>\n",
       "    </tr>\n",
       "    <tr>\n",
       "      <th>3</th>\n",
       "      <td>-1013.554254</td>\n",
       "      <td>-2110.668149</td>\n",
       "    </tr>\n",
       "    <tr>\n",
       "      <th>4</th>\n",
       "      <td>-1006.393358</td>\n",
       "      <td>-2109.423977</td>\n",
       "    </tr>\n",
       "    <tr>\n",
       "      <th>5</th>\n",
       "      <td>-1046.835986</td>\n",
       "      <td>-2112.649329</td>\n",
       "    </tr>\n",
       "    <tr>\n",
       "      <th>6</th>\n",
       "      <td>-605.545202</td>\n",
       "      <td>512.674738</td>\n",
       "    </tr>\n",
       "    <tr>\n",
       "      <th>7</th>\n",
       "      <td>-847.448551</td>\n",
       "      <td>2618.516173</td>\n",
       "    </tr>\n",
       "    <tr>\n",
       "      <th>8</th>\n",
       "      <td>-1269.882544</td>\n",
       "      <td>5346.434862</td>\n",
       "    </tr>\n",
       "    <tr>\n",
       "      <th>9</th>\n",
       "      <td>-1850.804551</td>\n",
       "      <td>7065.006795</td>\n",
       "    </tr>\n",
       "    <tr>\n",
       "      <th>10</th>\n",
       "      <td>-2223.202753</td>\n",
       "      <td>7493.846379</td>\n",
       "    </tr>\n",
       "    <tr>\n",
       "      <th>11</th>\n",
       "      <td>-1134.248056</td>\n",
       "      <td>-1908.808584</td>\n",
       "    </tr>\n",
       "    <tr>\n",
       "      <th>12</th>\n",
       "      <td>-979.012273</td>\n",
       "      <td>-1622.477068</td>\n",
       "    </tr>\n",
       "    <tr>\n",
       "      <th>13</th>\n",
       "      <td>-1027.192553</td>\n",
       "      <td>-1629.242772</td>\n",
       "    </tr>\n",
       "    <tr>\n",
       "      <th>14</th>\n",
       "      <td>-1067.440649</td>\n",
       "      <td>-1705.442723</td>\n",
       "    </tr>\n",
       "    <tr>\n",
       "      <th>15</th>\n",
       "      <td>-976.501918</td>\n",
       "      <td>-1641.974912</td>\n",
       "    </tr>\n",
       "    <tr>\n",
       "      <th>16</th>\n",
       "      <td>19680.819541</td>\n",
       "      <td>774.411801</td>\n",
       "    </tr>\n",
       "    <tr>\n",
       "      <th>17</th>\n",
       "      <td>-869.246786</td>\n",
       "      <td>-1528.799035</td>\n",
       "    </tr>\n",
       "    <tr>\n",
       "      <th>18</th>\n",
       "      <td>-778.688629</td>\n",
       "      <td>-1124.985550</td>\n",
       "    </tr>\n",
       "  </tbody>\n",
       "</table>\n",
       "</div>"
      ],
      "text/plain": [
       "               0            1\n",
       "0    -991.600190 -2100.569600\n",
       "1    -995.839618 -2103.472314\n",
       "2    -997.381667 -2112.376735\n",
       "3   -1013.554254 -2110.668149\n",
       "4   -1006.393358 -2109.423977\n",
       "5   -1046.835986 -2112.649329\n",
       "6    -605.545202   512.674738\n",
       "7    -847.448551  2618.516173\n",
       "8   -1269.882544  5346.434862\n",
       "9   -1850.804551  7065.006795\n",
       "10  -2223.202753  7493.846379\n",
       "11  -1134.248056 -1908.808584\n",
       "12   -979.012273 -1622.477068\n",
       "13  -1027.192553 -1629.242772\n",
       "14  -1067.440649 -1705.442723\n",
       "15   -976.501918 -1641.974912\n",
       "16  19680.819541   774.411801\n",
       "17   -869.246786 -1528.799035\n",
       "18   -778.688629 -1124.985550"
      ]
     },
     "metadata": {},
     "output_type": "display_data"
    }
   ],
   "source": [
    "#Aplicando PCA - X_test\n",
    "pca_test = PCA(n_components=2)\n",
    "principalComponents_test = pca_test.fit_transform(new_data_test)\n",
    "principalDf_test = pd.DataFrame(data= principalComponents_test)\n",
    "\n",
    "display(principalDf_test)"
   ]
  },
  {
   "cell_type": "code",
   "execution_count": 16,
   "metadata": {},
   "outputs": [],
   "source": [
    "#Definindo dados de teste\n",
    "X_test = principalDf_test\n",
    "\n",
    "y_test = np.array([0, 0, 0, 0, 0, 0, 0, 0, 0, 0, 0, 1, 1, 1, 1, 1, 1, 1, 1])"
   ]
  },
  {
   "cell_type": "code",
   "execution_count": 17,
   "metadata": {},
   "outputs": [],
   "source": [
    "#Predição e Pontuações atípicas - X_test\n",
    "y_test_pred = detector.predict(X_test) \n",
    "y_test_scores = detector.decision_function(X_test)"
   ]
  },
  {
   "cell_type": "code",
   "execution_count": 18,
   "metadata": {
    "colab": {
     "base_uri": "https://localhost:8080/"
    },
    "id": "YpPyYNXlM1DU",
    "outputId": "88b2e019-da02-4e45-e15a-0115ff9e95a3"
   },
   "outputs": [
    {
     "name": "stdout",
     "output_type": "stream",
     "text": [
      "\n",
      "Dados de treinamento:\n",
      "COPOD ROC:0.4791, precision @ rank n:0.797\n",
      "\n",
      "Dados de teste:\n",
      "COPOD ROC:0.125, precision @ rank n:0.125\n"
     ]
    }
   ],
   "source": [
    "#Visualização das pontuações\n",
    "clf_name = 'COPOD'\n",
    "print(\"\\nDados de treinamento:\")\n",
    "evaluate_print(clf_name, y_train, y_train_scores)\n",
    "print(\"\\nDados de teste:\")\n",
    "evaluate_print(clf_name, y_test, y_test_scores)"
   ]
  },
  {
   "cell_type": "code",
   "execution_count": 19,
   "metadata": {},
   "outputs": [
    {
     "data": {
      "image/png": "[encoded data removed]",
      "text/plain": [
       "<Figure size 864x720 with 4 Axes>"
      ]
     },
     "metadata": {},
     "output_type": "display_data"
    }
   ],
   "source": [
    "#Visualizando os resultados\n",
    "visualize(clf_name, X_train, y_train, X_test, y_test, y_train_pred, y_test_pred, show_figure=True, save_figure=False)"
   ]
  },
  {
   "cell_type": "code",
   "execution_count": 22,
   "metadata": {},
   "outputs": [
    {
     "name": "stderr",
     "output_type": "stream",
     "text": [
      "C:\\Users\\Meu Computador\\anaconda3\\lib\\site-packages\\seaborn\\distributions.py:2619: FutureWarning: `distplot` is a deprecated function and will be removed in a future version. Please adapt your code to use either `displot` (a figure-level function with similar flexibility) or `histplot` (an axes-level function for histograms).\n",
      "  warnings.warn(msg, FutureWarning)\n",
      "C:\\Users\\Meu Computador\\anaconda3\\lib\\site-packages\\seaborn\\distributions.py:2619: FutureWarning: `distplot` is a deprecated function and will be removed in a future version. Please adapt your code to use either `displot` (a figure-level function with similar flexibility) or `histplot` (an axes-level function for histograms).\n",
      "  warnings.warn(msg, FutureWarning)\n"
     ]
    },
    {
     "data": {
      "text/plain": [
       "Text(0.5, 0, 'Outlier score')"
      ]
     },
     "execution_count": 22,
     "metadata": {},
     "output_type": "execute_result"
    },
    {
     "data": {
      "image/png": "[encoded data removed]",
      "text/plain": [
       "<Figure size 432x288 with 1 Axes>"
      ]
     },
     "metadata": {
      "needs_background": "light"
     },
     "output_type": "display_data"
    }
   ],
   "source": [
    "X = np.concatenate([X_train, X_test], axis=0)\n",
    "ys = np.concatenate([y_train, y_test])\n",
    "\n",
    "scores = detector.decision_function(X)\n",
    "\n",
    "sns.distplot(scores[ys==0], label=\"inlier scores\", color=\"green\")\n",
    "sns.distplot(scores[ys==1], label=\"outlier scores\").set_title(\"Distribuição de pontuações atípicas do detector COPOD\")\n",
    "plt.legend()\n",
    "plt.xlabel(\"Outlier score\")"
   ]
  },
  {
   "cell_type": "code",
   "execution_count": 23,
   "metadata": {
    "colab": {
     "base_uri": "https://localhost:8080/",
     "height": 284
    },
    "id": "2sg9JO_TSqRT",
    "outputId": "48709d3f-e078-472c-b8b5-38b88dfefbf1"
   },
   "outputs": [
    {
     "data": {
      "text/plain": [
       "<AxesSubplot:>"
      ]
     },
     "execution_count": 23,
     "metadata": {},
     "output_type": "execute_result"
    },
    {
     "data": {
      "image/png": "[encoded data removed]",
      "text/plain": [
       "<Figure size 432x288 with 1 Axes>"
      ]
     },
     "metadata": {
      "needs_background": "light"
     },
     "output_type": "display_data"
    }
   ],
   "source": [
    "#Matriz de confusão: Dados de treinamento\n",
    "from sklearn.metrics import confusion_matrix\n",
    "import seaborn as sns\n",
    "\n",
    "mc = confusion_matrix(y_train, y_train_pred)\n",
    "sns.heatmap(mc, square=True, annot=True, cmap='Blues', fmt='d', cbar=False)"
   ]
  },
  {
   "cell_type": "code",
   "execution_count": null,
   "metadata": {},
   "outputs": [],
   "source": []
  }
 ],
 "metadata": {
  "colab": {
   "collapsed_sections": [],
   "name": "Aplicacao_COPOD_PZT.ipynb",
   "provenance": []
  },
  "kernelspec": {
   "display_name": "Python 3 (ipykernel)",
   "language": "python",
   "name": "python3"
  },
  "language_info": {
   "codemirror_mode": {
    "name": "ipython",
    "version": 3
   },
   "file_extension": ".py",
   "mimetype": "text/x-python",
   "name": "python",
   "nbconvert_exporter": "python",
   "pygments_lexer": "ipython3",
   "version": "3.9.12"
  }
 },
 "nbformat": 4,
 "nbformat_minor": 1
}
